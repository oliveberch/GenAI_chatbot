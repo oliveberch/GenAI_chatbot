{
 "cells": [
  {
   "cell_type": "code",
   "execution_count": 1,
   "metadata": {},
   "outputs": [
    {
     "name": "stderr",
     "output_type": "stream",
     "text": [
      "d:\\Project2\\GenAI_chatbot\\venv\\Lib\\site-packages\\pinecone\\data\\index.py:1: TqdmWarning: IProgress not found. Please update jupyter and ipywidgets. See https://ipywidgets.readthedocs.io/en/stable/user_install.html\n",
      "  from tqdm.autonotebook import tqdm\n"
     ]
    }
   ],
   "source": [
    "from pinecone import Pinecone\n",
    "import pinecone\n",
    "import os\n",
    "from dotenv import load_dotenv\n",
    "\n",
    "key = os.getenv('PINECONE_API_KEY')\n",
    "client = Pinecone(api_key=key)\n",
    "\n",
    "index_name = 'index1'\n",
    "def get_index(index_name:str):\n",
    "    index = client.Index(index_name)\n",
    "    return index"
   ]
  },
  {
   "cell_type": "code",
   "execution_count": null,
   "metadata": {},
   "outputs": [],
   "source": []
  },
  {
   "cell_type": "code",
   "execution_count": 8,
   "metadata": {},
   "outputs": [
    {
     "ename": "ModuleNotFoundError",
     "evalue": "No module named 'pwd'",
     "output_type": "error",
     "traceback": [
      "\u001b[1;31m---------------------------------------------------------------------------\u001b[0m",
      "\u001b[1;31mModuleNotFoundError\u001b[0m                       Traceback (most recent call last)",
      "Cell \u001b[1;32mIn[8], line 7\u001b[0m\n\u001b[0;32m      5\u001b[0m \u001b[38;5;28;01mfrom\u001b[39;00m \u001b[38;5;21;01mlangchain\u001b[39;00m\u001b[38;5;21;01m.\u001b[39;00m\u001b[38;5;21;01mtext_splitter\u001b[39;00m \u001b[38;5;28;01mimport\u001b[39;00m RecursiveCharacterTextSplitter\n\u001b[0;32m      6\u001b[0m \u001b[38;5;28;01mfrom\u001b[39;00m \u001b[38;5;21;01mlangchain\u001b[39;00m\u001b[38;5;21;01m.\u001b[39;00m\u001b[38;5;21;01mvectorstores\u001b[39;00m \u001b[38;5;28;01mimport\u001b[39;00m Pinecone\n\u001b[1;32m----> 7\u001b[0m \u001b[38;5;28;01mfrom\u001b[39;00m \u001b[38;5;21;01mlangchain\u001b[39;00m\u001b[38;5;21;01m.\u001b[39;00m\u001b[38;5;21;01mdocument_loaders\u001b[39;00m \u001b[38;5;28;01mimport\u001b[39;00m PyPDFDirectoryLoader\n\u001b[0;32m      9\u001b[0m load_dotenv()\n\u001b[0;32m     11\u001b[0m embeddings_model \u001b[38;5;241m=\u001b[39m HuggingFaceEmbeddings(\n\u001b[0;32m     12\u001b[0m     model_name\u001b[38;5;241m=\u001b[39m\u001b[38;5;124m\"\u001b[39m\u001b[38;5;124mthenlper/gte-large\u001b[39m\u001b[38;5;124m\"\u001b[39m,\n\u001b[0;32m     13\u001b[0m     encode_kwargs\u001b[38;5;241m=\u001b[39m{\u001b[38;5;124m\"\u001b[39m\u001b[38;5;124mnormalize_embeddings\u001b[39m\u001b[38;5;124m\"\u001b[39m: \u001b[38;5;28;01mTrue\u001b[39;00m},\n\u001b[0;32m     14\u001b[0m )\n",
      "File \u001b[1;32md:\\Project2\\GenAI_chatbot\\venv\\Lib\\site-packages\\langchain\\document_loaders\\__init__.py:32\u001b[0m, in \u001b[0;36m__getattr__\u001b[1;34m(name)\u001b[0m\n\u001b[0;32m     31\u001b[0m \u001b[38;5;28;01mdef\u001b[39;00m \u001b[38;5;21m__getattr__\u001b[39m(name: \u001b[38;5;28mstr\u001b[39m) \u001b[38;5;241m-\u001b[39m\u001b[38;5;241m>\u001b[39m Any:\n\u001b[1;32m---> 32\u001b[0m     \u001b[38;5;28;01mfrom\u001b[39;00m \u001b[38;5;21;01mlangchain_community\u001b[39;00m \u001b[38;5;28;01mimport\u001b[39;00m document_loaders\n\u001b[0;32m     34\u001b[0m     \u001b[38;5;66;03m# If not in interactive env, raise warning.\u001b[39;00m\n\u001b[0;32m     35\u001b[0m     \u001b[38;5;28;01mif\u001b[39;00m \u001b[38;5;129;01mnot\u001b[39;00m is_interactive_env():\n",
      "File \u001b[1;32md:\\Project2\\GenAI_chatbot\\venv\\Lib\\site-packages\\langchain_community\\document_loaders\\__init__.py:163\u001b[0m\n\u001b[0;32m    149\u001b[0m \u001b[38;5;28;01mfrom\u001b[39;00m \u001b[38;5;21;01mlangchain_community\u001b[39;00m\u001b[38;5;21;01m.\u001b[39;00m\u001b[38;5;21;01mdocument_loaders\u001b[39;00m\u001b[38;5;21;01m.\u001b[39;00m\u001b[38;5;21;01morg_mode\u001b[39;00m \u001b[38;5;28;01mimport\u001b[39;00m UnstructuredOrgModeLoader\n\u001b[0;32m    150\u001b[0m \u001b[38;5;28;01mfrom\u001b[39;00m \u001b[38;5;21;01mlangchain_community\u001b[39;00m\u001b[38;5;21;01m.\u001b[39;00m\u001b[38;5;21;01mdocument_loaders\u001b[39;00m\u001b[38;5;21;01m.\u001b[39;00m\u001b[38;5;21;01mpdf\u001b[39;00m \u001b[38;5;28;01mimport\u001b[39;00m (\n\u001b[0;32m    151\u001b[0m     AmazonTextractPDFLoader,\n\u001b[0;32m    152\u001b[0m     MathpixPDFLoader,\n\u001b[1;32m   (...)\u001b[0m\n\u001b[0;32m    161\u001b[0m     UnstructuredPDFLoader,\n\u001b[0;32m    162\u001b[0m )\n\u001b[1;32m--> 163\u001b[0m \u001b[38;5;28;01mfrom\u001b[39;00m \u001b[38;5;21;01mlangchain_community\u001b[39;00m\u001b[38;5;21;01m.\u001b[39;00m\u001b[38;5;21;01mdocument_loaders\u001b[39;00m\u001b[38;5;21;01m.\u001b[39;00m\u001b[38;5;21;01mpebblo\u001b[39;00m \u001b[38;5;28;01mimport\u001b[39;00m PebbloSafeLoader\n\u001b[0;32m    164\u001b[0m \u001b[38;5;28;01mfrom\u001b[39;00m \u001b[38;5;21;01mlangchain_community\u001b[39;00m\u001b[38;5;21;01m.\u001b[39;00m\u001b[38;5;21;01mdocument_loaders\u001b[39;00m\u001b[38;5;21;01m.\u001b[39;00m\u001b[38;5;21;01mpolars_dataframe\u001b[39;00m \u001b[38;5;28;01mimport\u001b[39;00m PolarsDataFrameLoader\n\u001b[0;32m    165\u001b[0m \u001b[38;5;28;01mfrom\u001b[39;00m \u001b[38;5;21;01mlangchain_community\u001b[39;00m\u001b[38;5;21;01m.\u001b[39;00m\u001b[38;5;21;01mdocument_loaders\u001b[39;00m\u001b[38;5;21;01m.\u001b[39;00m\u001b[38;5;21;01mpowerpoint\u001b[39;00m \u001b[38;5;28;01mimport\u001b[39;00m UnstructuredPowerPointLoader\n",
      "File \u001b[1;32md:\\Project2\\GenAI_chatbot\\venv\\Lib\\site-packages\\langchain_community\\document_loaders\\pebblo.py:5\u001b[0m\n\u001b[0;32m      3\u001b[0m \u001b[38;5;28;01mimport\u001b[39;00m \u001b[38;5;21;01mlogging\u001b[39;00m\n\u001b[0;32m      4\u001b[0m \u001b[38;5;28;01mimport\u001b[39;00m \u001b[38;5;21;01mos\u001b[39;00m\n\u001b[1;32m----> 5\u001b[0m \u001b[38;5;28;01mimport\u001b[39;00m \u001b[38;5;21;01mpwd\u001b[39;00m\n\u001b[0;32m      6\u001b[0m \u001b[38;5;28;01mimport\u001b[39;00m \u001b[38;5;21;01muuid\u001b[39;00m\n\u001b[0;32m      7\u001b[0m \u001b[38;5;28;01mfrom\u001b[39;00m \u001b[38;5;21;01mhttp\u001b[39;00m \u001b[38;5;28;01mimport\u001b[39;00m HTTPStatus\n",
      "\u001b[1;31mModuleNotFoundError\u001b[0m: No module named 'pwd'"
     ]
    }
   ],
   "source": [
    "# This script is used to create vector embeds and upload them to pinecone db.\n",
    "from dotenv import load_dotenv\n",
    "from langchain.embeddings.huggingface import HuggingFaceEmbeddings\n",
    "from langchain.text_splitter import CharacterTextSplitter\n",
    "from langchain.text_splitter import RecursiveCharacterTextSplitter\n",
    "from langchain.vectorstores import Pinecone\n",
    "from langchain.document_loaders import PyPDFDirectoryLoader\n",
    "\n",
    "load_dotenv()\n",
    "\n",
    "embeddings_model = HuggingFaceEmbeddings(\n",
    "    model_name=\"thenlper/gte-large\",\n",
    "    encode_kwargs={\"normalize_embeddings\": True},\n",
    ")\n",
    "\n",
    "index= \"index1\"\n",
    "\n",
    "directory = 'D:/Project2/GenAI_chatbot/assets/'\n",
    " \n",
    "def load_docs(directory):\n",
    "  loader = PyPDFDirectoryLoader(directory)\n",
    "  documents = loader.load()\n",
    "  return documents\n",
    " \n",
    "documents = load_docs(directory)\n",
    " \n",
    "def split_docs(documents,chunk_size=500,chunk_overlap=20):\n",
    "  text_splitter = RecursiveCharacterTextSplitter(chunk_size=chunk_size, chunk_overlap=chunk_overlap)\n",
    "  docs = text_splitter.split_documents(documents)\n",
    "  return docs\n",
    " \n",
    "pages = split_docs(documents)\n",
    "\n",
    "print(len(pages))\n",
    "    \n",
    "Pinecone.from_documents(pages, embeddings_model, index_name=index, namespace = 'brightspeed')\n",
    "\n"
   ]
  },
  {
   "cell_type": "code",
   "execution_count": null,
   "metadata": {},
   "outputs": [],
   "source": [
    "from langchain.document_loaders import PyPDFDirectoryLoader\n",
    " \n",
    "directory = 'D:/Project2/GenAI_chatbot/assets/'\n",
    " \n",
    "def load_docs(directory):\n",
    "  loader = PyPDFDirectoryLoader(directory)\n",
    "  documents = loader.load()\n",
    "  return documents\n",
    " \n",
    "documents = load_docs(directory)\n",
    "documents"
   ]
  },
  {
   "cell_type": "code",
   "execution_count": null,
   "metadata": {},
   "outputs": [],
   "source": [
    "from langchain.text_splitter import RecursiveCharacterTextSplitter\n",
    " \n",
    "def split_docs(documents,chunk_size=500,chunk_overlap=20):\n",
    "  text_splitter = RecursiveCharacterTextSplitter(chunk_size=chunk_size, chunk_overlap=chunk_overlap)\n",
    "  docs = text_splitter.split_documents(documents)\n",
    "  return docs\n",
    " \n",
    "docs = split_docs(documents)\n",
    "print(len(docs))"
   ]
  },
  {
   "cell_type": "code",
   "execution_count": 10,
   "metadata": {},
   "outputs": [
    {
     "name": "stdout",
     "output_type": "stream",
     "text": [
      "[array([-0.03740964,  0.00446159, -0.03777637, ..., -0.0231058 ,\n",
      "       -0.02405821,  0.01102368], dtype=float32), array([-0.01599928,  0.01769974, -0.05507275, ..., -0.0108096 ,\n",
      "       -0.03556978,  0.02780585], dtype=float32), array([-0.03384203,  0.00285888, -0.01391482, ..., -0.02296982,\n",
      "        0.008249  , -0.00569512], dtype=float32), array([-0.01814959, -0.00196508, -0.03207922, ..., -0.00693101,\n",
      "       -0.02312932, -0.00405289], dtype=float32), array([-0.02862885,  0.00853693, -0.02080997, ..., -0.01882656,\n",
      "       -0.00749745, -0.01973726], dtype=float32), array([-0.01108305, -0.02473118,  0.01478124, ..., -0.03683976,\n",
      "       -0.00523534, -0.0229464 ], dtype=float32), array([-0.00202013, -0.02219507, -0.01820995, ..., -0.01697179,\n",
      "        0.00023661, -0.00066417], dtype=float32), array([-0.02149453,  0.01635222,  0.00479107, ..., -0.02242871,\n",
      "       -0.00165969, -0.0218821 ], dtype=float32), array([-0.01814959, -0.00196508, -0.03207922, ..., -0.00693101,\n",
      "       -0.02312932, -0.00405289], dtype=float32), array([-0.02862885,  0.00853693, -0.02080997, ..., -0.01882656,\n",
      "       -0.00749745, -0.01973726], dtype=float32), array([-0.01218391, -0.02538275, -0.02200928, ..., -0.03495897,\n",
      "       -0.01405076, -0.00792773], dtype=float32), array([-0.01135932, -0.01477274,  0.01715831, ..., -0.02742399,\n",
      "       -0.0123415 , -0.02242658], dtype=float32), array([-0.02149453,  0.01635222,  0.00479107, ..., -0.02242871,\n",
      "       -0.00165969, -0.0218821 ], dtype=float32), array([-0.01814959, -0.00196508, -0.03207922, ..., -0.00693101,\n",
      "       -0.02312932, -0.00405289], dtype=float32), array([-0.02862885,  0.00853693, -0.02080997, ..., -0.01882656,\n",
      "       -0.00749745, -0.01973726], dtype=float32), array([-0.01673246, -0.02754107, -0.02348708, ..., -0.02312968,\n",
      "       -0.0034362 , -0.01209125], dtype=float32), array([-0.01113034, -0.00512593, -0.01921111, ..., -0.01509935,\n",
      "       -0.01688386, -0.01831612], dtype=float32), array([-0.02149453,  0.01635222,  0.00479107, ..., -0.02242871,\n",
      "       -0.00165969, -0.0218821 ], dtype=float32), array([-0.01814959, -0.00196508, -0.03207922, ..., -0.00693101,\n",
      "       -0.02312932, -0.00405289], dtype=float32), array([-0.02862885,  0.00853693, -0.02080997, ..., -0.01882656,\n",
      "       -0.00749745, -0.01973726], dtype=float32), array([-0.00719433, -0.02082944, -0.01837745, ..., -0.03176871,\n",
      "       -0.00704317, -0.0151091 ], dtype=float32), array([-0.00856297, -0.01044311, -0.01239005, ..., -0.01811254,\n",
      "       -0.01145126, -0.02455033], dtype=float32), array([-0.02149453,  0.01635222,  0.00479107, ..., -0.02242871,\n",
      "       -0.00165969, -0.0218821 ], dtype=float32), array([-0.01814959, -0.00196508, -0.03207922, ..., -0.00693101,\n",
      "       -0.02312932, -0.00405289], dtype=float32), array([-0.02862885,  0.00853693, -0.02080997, ..., -0.01882656,\n",
      "       -0.00749745, -0.01973726], dtype=float32), array([-0.01379745, -0.0250483 , -0.00597957, ..., -0.02834104,\n",
      "       -0.01078898, -0.01368343], dtype=float32), array([-0.00457555, -0.01794393, -0.01034606, ..., -0.02422622,\n",
      "       -0.0184573 , -0.01293639], dtype=float32), array([-0.02149453,  0.01635222,  0.00479107, ..., -0.02242871,\n",
      "       -0.00165969, -0.0218821 ], dtype=float32), array([-0.01814959, -0.00196508, -0.03207922, ..., -0.00693101,\n",
      "       -0.02312932, -0.00405289], dtype=float32), array([-0.02862885,  0.00853693, -0.02080997, ..., -0.01882656,\n",
      "       -0.00749745, -0.01973726], dtype=float32), array([-0.01319402, -0.01853278, -0.0302499 , ..., -0.03437203,\n",
      "       -0.00610613, -0.01710921], dtype=float32), array([-0.02500274,  0.00497799, -0.03267011, ..., -0.00303177,\n",
      "       -0.00134494, -0.01530532], dtype=float32), array([-0.02149453,  0.01635222,  0.00479107, ..., -0.02242871,\n",
      "       -0.00165969, -0.0218821 ], dtype=float32)]\n"
     ]
    }
   ],
   "source": [
    "fp=open('C:/Users/krant/OneDrive/Documents/revature p2 project/GenAI_chatbot/assets/service.txt','r')\n",
    "l=fp.readlines()\n",
    "from sentence_transformers import SentenceTransformer\n",
    "embeddings_model = SentenceTransformer('thenlper/gte-large')\n",
    "\n",
    "embeddings=[embeddings_model.encode(i) for i in l]\n",
    "print(embeddings)"
   ]
  },
  {
   "cell_type": "code",
   "execution_count": 12,
   "metadata": {},
   "outputs": [
    {
     "name": "stdout",
     "output_type": "stream",
     "text": [
      "[{'id': '0', 'values': array([-0.03740964,  0.00446159, -0.03777637, ..., -0.0231058 ,\n",
      "       -0.02405821,  0.01102368], dtype=float32), 'metadata': {'text': 'Brightspeed is a telecommunications company dedicated to providing accessible, high quality internet to the communities we serve. \\n'}}, {'id': '1', 'values': array([-0.01599928,  0.01769974, -0.05507275, ..., -0.0108096 ,\n",
      "       -0.03556978,  0.02780585], dtype=float32), 'metadata': {'text': 'Our goal is to keep you connected, so you can work, learn, stream, play, and accomplish what matters most.\\n'}}, {'id': '2', 'values': array([-0.03384203,  0.00285888, -0.01391482, ..., -0.02296982,\n",
      "        0.008249  , -0.00569512], dtype=float32), 'metadata': {'text': \"Brightspeed takes care of it's customers.\\n\"}}, {'id': '3', 'values': array([-0.01814959, -0.00196508, -0.03207922, ..., -0.00693101,\n",
      "       -0.02312932, -0.00405289], dtype=float32), 'metadata': {'text': '\\n'}}, {'id': '4', 'values': array([-0.02862885,  0.00853693, -0.02080997, ..., -0.01882656,\n",
      "       -0.00749745, -0.01973726], dtype=float32), 'metadata': {'text': '{\\n'}}, {'id': '5', 'values': array([-0.01108305, -0.02473118,  0.01478124, ..., -0.03683976,\n",
      "       -0.00523534, -0.0229464 ], dtype=float32), 'metadata': {'text': \"  'query': 'Problems with login credentials',\\n\"}}, {'id': '6', 'values': array([-0.00202013, -0.02219507, -0.01820995, ..., -0.01697179,\n",
      "        0.00023661, -0.00066417], dtype=float32), 'metadata': {'text': '  \\'troubleshoot\\': \"If you\\'ve forgotten your login credentials, you can retrieve your username and password. (If needed, as part of the retrieval process, you can reset your password.) If you\\'re certain the username and password are correct, the problem\"\\n'}}, {'id': '7', 'values': array([-0.02149453,  0.01635222,  0.00479107, ..., -0.02242871,\n",
      "       -0.00165969, -0.0218821 ], dtype=float32), 'metadata': {'text': '}\\n'}}, {'id': '8', 'values': array([-0.01814959, -0.00196508, -0.03207922, ..., -0.00693101,\n",
      "       -0.02312932, -0.00405289], dtype=float32), 'metadata': {'text': '\\n'}}, {'id': '9', 'values': array([-0.02862885,  0.00853693, -0.02080997, ..., -0.01882656,\n",
      "       -0.00749745, -0.01973726], dtype=float32), 'metadata': {'text': '{\\n'}}, {'id': '10', 'values': array([-0.01218391, -0.02538275, -0.02200928, ..., -0.03495897,\n",
      "       -0.01405076, -0.00792773], dtype=float32), 'metadata': {'text': \"  'query': 'Browser or network',\\n\"}}, {'id': '11', 'values': array([-0.01135932, -0.01477274,  0.01715831, ..., -0.02742399,\n",
      "       -0.0123415 , -0.02242658], dtype=float32), 'metadata': {'text': '  \\'troubleshoot\\': \"Might be how you\\'re entering the information. Are you copying and pasting your username or password? If so, that could be why you\\'re experiencing troubles. When a username and password are copied, extra spaces may be included and inserted as part of the login credentials. Manually typing in your username and password should solve it. Are you relying on your browser to enter your password using stored information? Stored passwords usually don\\'t work with our systems. We recommend manually typing in your Control Center password. For some customers, the system automatically adds @control.brightspeed.com to the end of their username. If you see this happen with your username, do not delete the @control.brightspeed.com. It\\'s there for a reason and is part of the login process. Note: If you\\'re ever asked to provide your username, type the information before the @ sign â€“ in this case, sallysmith.\"\\n'}}, {'id': '12', 'values': array([-0.02149453,  0.01635222,  0.00479107, ..., -0.02242871,\n",
      "       -0.00165969, -0.0218821 ], dtype=float32), 'metadata': {'text': '}\\n'}}, {'id': '13', 'values': array([-0.01814959, -0.00196508, -0.03207922, ..., -0.00693101,\n",
      "       -0.02312932, -0.00405289], dtype=float32), 'metadata': {'text': '\\n'}}, {'id': '14', 'values': array([-0.02862885,  0.00853693, -0.02080997, ..., -0.01882656,\n",
      "       -0.00749745, -0.01973726], dtype=float32), 'metadata': {'text': '{\\n'}}, {'id': '15', 'values': array([-0.01673246, -0.02754107, -0.02348708, ..., -0.02312968,\n",
      "       -0.0034362 , -0.01209125], dtype=float32), 'metadata': {'text': \"  'query': 'Problems with a deactivated user profile',\\n\"}}, {'id': '16', 'values': array([-0.01113034, -0.00512593, -0.01921111, ..., -0.01509935,\n",
      "       -0.01688386, -0.01831612], dtype=float32), 'metadata': {'text': '  \\'troubleshoot\\': \"If it\\'s been a while since you last signed in, your Control Center user profile may be deactivated. For security purposes, Control Center deactivates user profiles after six months of inactivity and emails you 30 days before to remind you that your profile will be deactivated. (You can keep your profile active if you sign in every six months.) If your user profile is deactivated, your system administrator can reactivate your user profile for you so you can sign in again.\"\\n'}}, {'id': '17', 'values': array([-0.02149453,  0.01635222,  0.00479107, ..., -0.02242871,\n",
      "       -0.00165969, -0.0218821 ], dtype=float32), 'metadata': {'text': '}\\n'}}, {'id': '18', 'values': array([-0.01814959, -0.00196508, -0.03207922, ..., -0.00693101,\n",
      "       -0.02312932, -0.00405289], dtype=float32), 'metadata': {'text': '\\n'}}, {'id': '19', 'values': array([-0.02862885,  0.00853693, -0.02080997, ..., -0.01882656,\n",
      "       -0.00749745, -0.01973726], dtype=float32), 'metadata': {'text': '{\\n'}}, {'id': '20', 'values': array([-0.00719433, -0.02082944, -0.01837745, ..., -0.03176871,\n",
      "       -0.00704317, -0.0151091 ], dtype=float32), 'metadata': {'text': \"  'query': 'Problems with a locked user profile',\\n\"}}, {'id': '21', 'values': array([-0.00856297, -0.01044311, -0.01239005, ..., -0.01811254,\n",
      "       -0.01145126, -0.02455033], dtype=float32), 'metadata': {'text': '  \\'troubleshoot\\': \"After several unsuccessful login attempts, Control Center locks your user profile for security purposes. This is a preventative measure against unauthorized people accessing Control Center with your credentials. If your user profile is locked, you\\'ll receive an email with instructions on how to proceed.\"\\n'}}, {'id': '22', 'values': array([-0.02149453,  0.01635222,  0.00479107, ..., -0.02242871,\n",
      "       -0.00165969, -0.0218821 ], dtype=float32), 'metadata': {'text': '}\\n'}}, {'id': '23', 'values': array([-0.01814959, -0.00196508, -0.03207922, ..., -0.00693101,\n",
      "       -0.02312932, -0.00405289], dtype=float32), 'metadata': {'text': '\\n'}}, {'id': '24', 'values': array([-0.02862885,  0.00853693, -0.02080997, ..., -0.01882656,\n",
      "       -0.00749745, -0.01973726], dtype=float32), 'metadata': {'text': '{\\n'}}, {'id': '25', 'values': array([-0.01379745, -0.0250483 , -0.00597957, ..., -0.02834104,\n",
      "       -0.01078898, -0.01368343], dtype=float32), 'metadata': {'text': \"  'query': 'Problems with your browser or network',\\n\"}}, {'id': '26', 'values': array([-0.00457555, -0.01794393, -0.01034606, ..., -0.02422622,\n",
      "       -0.0184573 , -0.01293639], dtype=float32), 'metadata': {'text': '  \\'troubleshoot\\': \"If your login credentials are correct, the problem could be with your browser. If Control Center is running slowly, that could be a browser problem. Try the following: clear your browser cache, history, and cookies; try using a different type of browser (e.g., Chrome, Firefox); update the browser version you\\'re using. If none of these things work, close your browser and restart it. Sometimes login problems have to do with your IP address. For instance, if you work for a government agency and have tried the things mentioned in this article without success, you should consult your IT department. The problem may be that your computer was temporarily disconnected from your network. Resetting, or renewing, your static IP address could solve the problem.\"\\n'}}, {'id': '27', 'values': array([-0.02149453,  0.01635222,  0.00479107, ..., -0.02242871,\n",
      "       -0.00165969, -0.0218821 ], dtype=float32), 'metadata': {'text': '}\\n'}}, {'id': '28', 'values': array([-0.01814959, -0.00196508, -0.03207922, ..., -0.00693101,\n",
      "       -0.02312932, -0.00405289], dtype=float32), 'metadata': {'text': '\\n'}}, {'id': '29', 'values': array([-0.02862885,  0.00853693, -0.02080997, ..., -0.01882656,\n",
      "       -0.00749745, -0.01973726], dtype=float32), 'metadata': {'text': '{\\n'}}, {'id': '30', 'values': array([-0.01319402, -0.01853278, -0.0302499 , ..., -0.03437203,\n",
      "       -0.00610613, -0.01710921], dtype=float32), 'metadata': {'text': \"  'query': 'Signing up for paperless billing',\\n\"}}, {'id': '31', 'values': array([-0.02500274,  0.00497799, -0.03267011, ..., -0.00303177,\n",
      "       -0.00134494, -0.01530532], dtype=float32), 'metadata': {'text': '  \\'benefits\\': \"When you sign up for paperless billing the benefits include: Cost savings - Save your organization time and resources rather than having staff take time to open, scan, file, and shred paper invoices. Secure - Protect yourself. Many hands touch paper invoices on their journey through the postal system. Instead of taking chances, review your invoice online. Convenient - Set up email alerts so you know when your invoice is ready to be downloaded. Continuity - Continue to pay invoices with the same payment method you\\'ve been using.\"\\n'}}, {'id': '32', 'values': array([-0.02149453,  0.01635222,  0.00479107, ..., -0.02242871,\n",
      "       -0.00165969, -0.0218821 ], dtype=float32), 'metadata': {'text': '}'}}]\n"
     ]
    }
   ],
   "source": [
    "vectors=[]\n",
    "\n",
    "for i in range(len(l)):\n",
    "    vectors.append({\n",
    "        'id':str(i),\n",
    "        'values':embeddings[i],\n",
    "        'metadata':{'text':l[i]}\n",
    "    })\n",
    "print(vectors)"
   ]
  },
  {
   "cell_type": "code",
   "execution_count": 21,
   "metadata": {},
   "outputs": [
    {
     "data": {
      "text/plain": [
       "{'upserted_count': 33}"
      ]
     },
     "execution_count": 21,
     "metadata": {},
     "output_type": "execute_result"
    }
   ],
   "source": [
    "from pinecone import Pinecone\n",
    "\n",
    "import dotenv\n",
    "import os\n",
    "PINECONE_API_KEY='67c15152-6c07-44d1-b3ba-d2886d18b1d5'\n",
    "client = Pinecone(api_key=PINECONE_API_KEY)\n",
    "\n",
    "index=client.Index('index1')\n",
    "\n",
    "index.upsert(\n",
    "    vectors=vectors,\n",
    "    namespace='service-namespace'\n",
    ")"
   ]
  }
 ],
 "metadata": {
  "kernelspec": {
   "display_name": "venv",
   "language": "python",
   "name": "python3"
  },
  "language_info": {
   "codemirror_mode": {
    "name": "ipython",
    "version": 3
   },
   "file_extension": ".py",
   "mimetype": "text/x-python",
   "name": "python",
   "nbconvert_exporter": "python",
   "pygments_lexer": "ipython3",
   "version": "3.11.1"
  }
 },
 "nbformat": 4,
 "nbformat_minor": 2
}
